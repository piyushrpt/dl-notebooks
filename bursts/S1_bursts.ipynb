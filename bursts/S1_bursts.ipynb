{
 "cells": [
  {
   "cell_type": "markdown",
   "id": "28d95e3f",
   "metadata": {},
   "source": [
    "# Sentinel-1 burst based processing system at DL"
   ]
  },
  {
   "cell_type": "code",
   "execution_count": 1,
   "id": "c58907b1",
   "metadata": {},
   "outputs": [
    {
     "data": {
      "text/plain": [
       "<dynaconf.base.Settings at 0x7f8fd19c5ed0>"
      ]
     },
     "execution_count": 1,
     "metadata": {},
     "output_type": "execute_result"
    }
   ],
   "source": [
    "# Work on latest iteration on AWS\n",
    "import descarteslabs as dl\n",
    "dl.select_env(dl.AWS_ENVIRONMENT)"
   ]
  },
  {
   "cell_type": "code",
   "execution_count": 14,
   "id": "7c2cf227",
   "metadata": {},
   "outputs": [],
   "source": [
    "from descarteslabs.catalog import Product, Image, Search, properties as pr\n",
    "import matplotlib.pyplot as plt\n",
    "import numpy as np\n",
    "import datetime\n",
    "from shapely.geometry import box"
   ]
  },
  {
   "cell_type": "markdown",
   "id": "cd56606d",
   "metadata": {},
   "source": [
    "## 1. Overview of Sentinel-1 burst index"
   ]
  },
  {
   "cell_type": "markdown",
   "id": "30c5f8f3",
   "metadata": {},
   "source": [
    "1. Product that contains Sentinel-1 IW burst footprints\n",
    "2. Updated on the fly as the processing system sees new SLCs released by ESA\n",
    "3. Also, mapped to ESA burst ids"
   ]
  },
  {
   "cell_type": "markdown",
   "id": "9d3f1795",
   "metadata": {},
   "source": [
    "### 1.1 Why maintain own burst footprint database?"
   ]
  },
  {
   "cell_type": "markdown",
   "id": "5e3a97e6",
   "metadata": {},
   "source": [
    "1. Independent QA on live stream of SLCs\n",
    "2. Faster identification of problematic SLC granules\n",
    "3. DL developed its database before ESA released its database, and our system is more resilient to metadata errors"
   ]
  },
  {
   "cell_type": "code",
   "execution_count": 4,
   "id": "06ff21ca",
   "metadata": {},
   "outputs": [
    {
     "data": {
      "text/plain": [
       "Product: Sentinel-1 Burst Footprints\n",
       "  id: esa:sentinel-1:burst_index:v1\n",
       "  created: Wed Aug 10 02:44:05 2022"
      ]
     },
     "execution_count": 4,
     "metadata": {},
     "output_type": "execute_result"
    }
   ],
   "source": [
    "# Burst footprint product\n",
    "fp_prod = Product.get(\"esa:sentinel-1:burst_index:v1\")\n",
    "fp_prod"
   ]
  },
  {
   "cell_type": "code",
   "execution_count": 5,
   "id": "c31de0a3",
   "metadata": {},
   "outputs": [
    {
     "data": {
      "text/plain": [
       "367713"
      ]
     },
     "execution_count": 5,
     "metadata": {},
     "output_type": "execute_result"
    }
   ],
   "source": [
    "# Total number of footprints\n",
    "fp_prod.images().count()"
   ]
  },
  {
   "cell_type": "code",
   "execution_count": 6,
   "id": "39a45b99",
   "metadata": {},
   "outputs": [
    {
     "data": {
      "text/plain": [
       "341335"
      ]
     },
     "execution_count": 6,
     "metadata": {},
     "output_type": "execute_result"
    }
   ],
   "source": [
    "# IW footprints\n",
    "fp_prod.images().filter(pr.provider_id > \"F\").count()   # More than EW"
   ]
  },
  {
   "cell_type": "code",
   "execution_count": 8,
   "id": "4be1cc5f",
   "metadata": {},
   "outputs": [
    {
     "data": {
      "text/plain": [
       "Image: 071-2637-IW1-VV-RD\n",
       "  id: esa:sentinel-1:burst_index:v1:071-2637-IW1-VV-RD\n",
       "  product: esa:sentinel-1:burst_index:v1\n",
       "  created: Wed Aug 10 09:30:16 2022"
      ]
     },
     "execution_count": 8,
     "metadata": {},
     "output_type": "execute_result"
    }
   ],
   "source": [
    "# Query a single burst\n",
    "Image.get(fp_prod.id + \":\" + \"071-2637-IW1-VV-RD\")"
   ]
  },
  {
   "cell_type": "code",
   "execution_count": 7,
   "id": "0ac7771f",
   "metadata": {},
   "outputs": [
    {
     "name": "stdout",
     "output_type": "stream",
     "text": [
      "Image: 071-2637-IW1-VV-RD\n",
      "  id: esa:sentinel-1:burst_index:v1:071-2637-IW1-VV-RD\n",
      "  product: esa:sentinel-1:burst_index:v1\n",
      "  created: Wed Aug 10 09:30:16 2022\n"
     ]
    }
   ],
   "source": [
    "# Query using ESA-id\n",
    "for ii in fp_prod.images().filter(pr.provider_id == \"IW1-0151226\").limit(1):\n",
    "    print(ii)"
   ]
  },
  {
   "cell_type": "code",
   "execution_count": 9,
   "id": "2878099b",
   "metadata": {},
   "outputs": [
    {
     "data": {
      "text/plain": [
       "{'anxtime': 2401.00422122095, 'epsg_code': 32611, 'has_land': 1}"
      ]
     },
     "execution_count": 9,
     "metadata": {},
     "output_type": "execute_result"
    }
   ],
   "source": [
    "# Extra properties of a footprint\n",
    "Image.get(fp_prod.id + \":\" + \"071-2637-IW1-VV-RD\").extra_properties"
   ]
  },
  {
   "cell_type": "markdown",
   "id": "062ec4b0",
   "metadata": {},
   "source": [
    "## 2. Overview of burst SLC database"
   ]
  },
  {
   "cell_type": "markdown",
   "id": "4ab4b9bb",
   "metadata": {},
   "source": [
    "1. Product that contains metadata for all IW bursts from Sentinel-1 (V transmit collection is complete)\n",
    "2. `-SV-` in name indicates single pol data and `-DV-` indicates dual pol data\n",
    "3. Underlying product that lets DL orchestrate scalable Sentinel-1 backscatter/insar/GSLC pipelines"
   ]
  },
  {
   "cell_type": "code",
   "execution_count": 10,
   "id": "175f7741",
   "metadata": {},
   "outputs": [
    {
     "data": {
      "text/plain": [
       "Product: Sentinel-1 Burst SLC Index Product\n",
       "  id: esa:sentinel-1:burst_slc:v1\n",
       "  created: Tue Mar 14 21:20:34 2023"
      ]
     },
     "execution_count": 10,
     "metadata": {},
     "output_type": "execute_result"
    }
   ],
   "source": [
    "# Burst SLC product\n",
    "slc_prod = Product.get(\"esa:sentinel-1:burst_slc:v1\")\n",
    "slc_prod"
   ]
  },
  {
   "cell_type": "code",
   "execution_count": 11,
   "id": "0b47adb5",
   "metadata": {},
   "outputs": [
    {
     "data": {
      "text/plain": [
       "51948677"
      ]
     },
     "execution_count": 11,
     "metadata": {},
     "output_type": "execute_result"
    }
   ],
   "source": [
    "# Total number of images\n",
    "slc_prod.images().count()"
   ]
  },
  {
   "cell_type": "code",
   "execution_count": 12,
   "id": "b83bf8a8",
   "metadata": {},
   "outputs": [
    {
     "data": {
      "text/plain": [
       "6516"
      ]
     },
     "execution_count": 12,
     "metadata": {},
     "output_type": "execute_result"
    }
   ],
   "source": [
    "# Burst in a given time period - use strings or datetime\n",
    "slc_prod.images().filter(\"2023-01-01\" < pr.acquired < \"2023-01-01T12:00:00\").count()"
   ]
  },
  {
   "cell_type": "code",
   "execution_count": 19,
   "id": "7c3681f1",
   "metadata": {},
   "outputs": [
    {
     "data": {
      "text/plain": [
       "90"
      ]
     },
     "execution_count": 19,
     "metadata": {},
     "output_type": "execute_result"
    }
   ],
   "source": [
    "# Burst in a given time period over an AOI - use any shapely polygon\n",
    "slc_prod.images().intersects(box(70., 15., 75., 20.)).filter(\"2023-01-01\" < pr.acquired < \"2023-01-01T12:00:00\").count()"
   ]
  },
  {
   "cell_type": "code",
   "execution_count": 21,
   "id": "c93b5650",
   "metadata": {},
   "outputs": [
    {
     "name": "stdout",
     "output_type": "stream",
     "text": [
      "esa:sentinel-1:burst_slc:v1:2023-01-01-S1A-136-2493-IW1-DV-RD-E056\n",
      "{'absburstid': 'IW1-100055603', 'anx': 2281.451759, 'burstid': 'IW1-290798', 'burstnumber': 1, 'ipf': '003.52', 'line0': 0, 'line1': 1496, 'safe': 'S1A_IW_SLC__1SDV_20230101T004905_20230101T004935_046583_059524_E056.zip', 'tiff': 's1a-iw1-slc-vv-20230101t004905-20230101t004933-046583-059524-004.tiff,s1a-iw1-slc-vh-20230101t004905-20230101t004933-046583-059524-001.tiff'}\n"
     ]
    }
   ],
   "source": [
    "# Extra properties of a burst\n",
    "for ii in slc_prod.images().filter(\"2023-01-01\" < pr.acquired < \"2023-01-01T12:00:00\").limit(1):\n",
    "    print(ii.id)\n",
    "    print(ii.extra_properties)"
   ]
  },
  {
   "cell_type": "markdown",
   "id": "a3c6e146",
   "metadata": {},
   "source": [
    "## 3. Stacks of bursts"
   ]
  },
  {
   "cell_type": "code",
   "execution_count": 22,
   "id": "44be9978",
   "metadata": {},
   "outputs": [
    {
     "data": {
      "text/plain": [
       "293"
      ]
     },
     "execution_count": 22,
     "metadata": {},
     "output_type": "execute_result"
    }
   ],
   "source": [
    "# Query stack by burst-id\n",
    "slc_prod.images().filter(pr.provider_id == \"071-2637-IW1-VV-RD\").count()"
   ]
  },
  {
   "cell_type": "code",
   "execution_count": 23,
   "id": "6a09bd70",
   "metadata": {},
   "outputs": [
    {
     "data": {
      "text/plain": [
       "45"
      ]
     },
     "execution_count": 23,
     "metadata": {},
     "output_type": "execute_result"
    }
   ],
   "source": [
    "# Query stack by burst-id and time interval\n",
    "slc_prod.images().filter(pr.provider_id == \"071-2637-IW1-VV-RD\").filter(pr.acquired > \"2022-01-01\").count()"
   ]
  },
  {
   "cell_type": "code",
   "execution_count": 25,
   "id": "cee32492",
   "metadata": {},
   "outputs": [
    {
     "name": "stdout",
     "output_type": "stream",
     "text": [
      "2022-01-01-S1A-071-2637-IW1-DV-RD-68E0 003.40\n",
      "2022-01-13-S1A-071-2637-IW1-DV-RD-18C1 003.40\n",
      "2022-01-25-S1A-071-2637-IW1-DV-RD-0830 003.40\n",
      "2022-02-06-S1A-071-2637-IW1-DV-RD-0E4C 003.40\n",
      "2022-02-18-S1A-071-2637-IW1-DV-RD-81E6 003.40\n",
      "2022-03-02-S1A-071-2637-IW1-DV-RD-E65B 003.40\n",
      "2022-03-14-S1A-071-2637-IW1-DV-RD-CC06 003.40\n",
      "2022-03-26-S1A-071-2637-IW1-DV-RD-6EE3 003.51\n",
      "2022-04-07-S1A-071-2637-IW1-DV-RD-3469 003.51\n",
      "2022-04-19-S1A-071-2637-IW1-DV-RD-DD4E 003.51\n",
      "2022-05-01-S1A-071-2637-IW1-DV-RD-72F9 003.51\n",
      "2022-05-13-S1A-071-2637-IW1-DV-RD-A1C7 003.52\n",
      "2022-05-25-S1A-071-2637-IW1-DV-RD-C810 003.52\n",
      "2022-06-06-S1A-071-2637-IW1-DV-RD-90E6 003.52\n",
      "2022-06-18-S1A-071-2637-IW1-DV-RD-B558 003.52\n",
      "2022-06-30-S1A-071-2637-IW1-DV-RD-FD13 003.52\n",
      "2022-07-12-S1A-071-2637-IW1-DV-RD-69C7 003.52\n",
      "2022-07-24-S1A-071-2637-IW1-DV-RD-996C 003.52\n",
      "2022-08-05-S1A-071-2637-IW1-DV-RD-7B86 003.52\n",
      "2022-08-17-S1A-071-2637-IW1-DV-RD-ECF9 003.52\n",
      "2022-08-29-S1A-071-2637-IW1-DV-RD-6C6B 003.52\n",
      "2022-09-10-S1A-071-2637-IW1-DV-RD-3609 003.52\n",
      "2022-09-22-S1A-071-2637-IW1-DV-RD-B8CA 003.52\n",
      "2022-10-04-S1A-071-2637-IW1-DV-RD-1026 003.52\n",
      "2022-10-16-S1A-071-2637-IW1-DV-RD-407E 003.52\n",
      "2022-10-28-S1A-071-2637-IW1-DV-RD-231F 003.52\n",
      "2022-11-09-S1A-071-2637-IW1-DV-RD-C068 003.52\n",
      "2022-11-21-S1A-071-2637-IW1-DV-RD-FC08 003.52\n",
      "2022-12-03-S1A-071-2637-IW1-DV-RD-9F91 003.52\n",
      "2022-12-15-S1A-071-2637-IW1-DV-RD-B84A 003.52\n",
      "2022-12-27-S1A-071-2637-IW1-DV-RD-0CF9 003.52\n",
      "2023-01-08-S1A-071-2637-IW1-DV-RD-A89F 003.52\n",
      "2023-01-20-S1A-071-2637-IW1-DV-RD-E46E 003.52\n",
      "2023-02-01-S1A-071-2637-IW1-DV-RD-B6F7 003.52\n",
      "2023-02-13-S1A-071-2637-IW1-DV-RD-DC83 003.52\n",
      "2023-02-25-S1A-071-2637-IW1-DV-RD-E7A0 003.52\n",
      "2023-03-09-S1A-071-2637-IW1-DV-RD-0B22 003.52\n",
      "2023-03-21-S1A-071-2637-IW1-DV-RD-9FC5 003.52\n",
      "2023-04-02-S1A-071-2637-IW1-DV-RD-13E5 003.61\n",
      "2023-04-14-S1A-071-2637-IW1-DV-RD-84E9 003.61\n",
      "2023-04-26-S1A-071-2637-IW1-DV-RD-7F8A 003.61\n",
      "2023-05-08-S1A-071-2637-IW1-DV-RD-C37F 003.61\n",
      "2023-05-20-S1A-071-2637-IW1-DV-RD-B44F 003.61\n",
      "2023-06-01-S1A-071-2637-IW1-DV-RD-822B 003.61\n",
      "2023-06-13-S1A-071-2637-IW1-DV-RD-1D61 003.61\n"
     ]
    }
   ],
   "source": [
    "# Get metadata of images in stack\n",
    "for ii in slc_prod.images().filter(pr.provider_id == \"071-2637-IW1-VV-RD\").filter(pr.acquired > \"2022-01-01\"):\n",
    "    print(ii.name, ii.extra_properties[\"ipf\"])"
   ]
  },
  {
   "cell_type": "markdown",
   "id": "8797aced",
   "metadata": {},
   "source": [
    "## 4. API for accessing burst metadata"
   ]
  },
  {
   "cell_type": "markdown",
   "id": "2c73bd8f",
   "metadata": {},
   "source": [
    "1. Ask to get access to the internal `s1geocoder` repo\n",
    "2. Install the repo and set up other necessary AWS credentials"
   ]
  },
  {
   "cell_type": "markdown",
   "id": "d0dd021c",
   "metadata": {},
   "source": [
    "Typical call to get metadata will look like this:\n",
    "\n",
    "```python\n",
    "from s1geocoder.s1parser.dl import bursts\n",
    "\n",
    "meta_zip, orbit_file = bursts.stage_metadata(slc_img, **creds)\n",
    "burst, lookup = bursts.load_burst(meta_zip, orbit_file=orbit_file, pol=pol)\n",
    "```"
   ]
  },
  {
   "cell_type": "markdown",
   "id": "b325642b",
   "metadata": {},
   "source": [
    "## 5. API for accessing burst imagery"
   ]
  },
  {
   "cell_type": "markdown",
   "id": "802d1234",
   "metadata": {},
   "source": [
    "Once, you have access to the metadata of a burst, you can also extract the imagery of a single burst to a numpy array as follows:\n",
    "\n",
    "```python\n",
    "from s1geocoder.s1parser.dl import bursts\n",
    "\n",
    "stream = bursts.get_burst_imagery(slc_img, burst, lookup, **creds)\n",
    "img0 = (stream[::2] + 1j * stream[1::2]).reshape((burst.numberOfLines, burst.numberOfSamples)).astype(np.complex64)\n",
    "```"
   ]
  },
  {
   "cell_type": "markdown",
   "id": "8a8a0e6f",
   "metadata": {},
   "source": [
    "## 6. Submitting GSLC jobs to the GDS system"
   ]
  },
  {
   "cell_type": "markdown",
   "id": "fc1b28a9",
   "metadata": {},
   "source": [
    "1. Request access to GDS enpoint and provide AWS role information\n",
    "2. Submit jobs to geocode via API\n",
    "3. Check catalog product after a while and geocoded bursts should be available like any other data there"
   ]
  },
  {
   "cell_type": "markdown",
   "id": "95af68e0",
   "metadata": {},
   "source": [
    "Here is a sample code snippet that lets you submit jobs to GDS.\n",
    "\n",
    "```python\n",
    "import requests\n",
    "\n",
    "gc_url = os.environ.get(\"GDS_GEOCODER_ENDPOINT\")\n",
    "\n",
    "burst_footprint = \"045-3867-IW1-VV-RD\"\n",
    "\n",
    "resp2 = requests.post(\n",
    "    f\"{gc_url}/gds/geocode/footprint/\",\n",
    "    params={\n",
    "        \"footprint\": burst_footprint,\n",
    "        \"start\": \"2018-01-01\",\n",
    "        \"stop\": \"2019-01-01\",\n",
    "    },\n",
    "    json=[\"testrun\", \"example\"],   # Tag this with something meaningful\n",
    "    auth=get_creds(),\n",
    ")\n",
    "\n",
    "print(resp2.json())\n",
    "```"
   ]
  },
  {
   "cell_type": "code",
   "execution_count": null,
   "id": "78425666",
   "metadata": {},
   "outputs": [],
   "source": []
  }
 ],
 "metadata": {
  "kernelspec": {
   "display_name": "Python 3 (ipykernel)",
   "language": "python",
   "name": "python3"
  },
  "language_info": {
   "codemirror_mode": {
    "name": "ipython",
    "version": 3
   },
   "file_extension": ".py",
   "mimetype": "text/x-python",
   "name": "python",
   "nbconvert_exporter": "python",
   "pygments_lexer": "ipython3",
   "version": "3.7.12"
  }
 },
 "nbformat": 4,
 "nbformat_minor": 5
}
