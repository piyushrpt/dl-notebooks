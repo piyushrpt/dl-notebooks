{
 "cells": [
  {
   "cell_type": "markdown",
   "id": "d7611056",
   "metadata": {},
   "source": [
    "# Sentinel-1/ Sentinel-2 GIF generator"
   ]
  },
  {
   "cell_type": "code",
   "execution_count": 1,
   "id": "a448fcab",
   "metadata": {
    "tags": []
   },
   "outputs": [],
   "source": [
    "# standard imports to get started\n",
    "import datetime\n",
    "import shapely\n",
    "import numpy as np\n",
    "import matplotlib\n",
    "import matplotlib.pyplot as plt\n",
    "import matplotlib.animation as anim\n",
    "from matplotlib.animation import PillowWriter\n",
    "import ipywidgets as ipyw\n",
    "import ipyleaflet\n",
    "\n",
    "import earthdaily.earthone as eo\n",
    "from earthdaily.earthone.catalog import Product, Image, ImageCollection, properties as p\n",
    "from earthdaily.earthone import dynamic_compute as dc"
   ]
  },
  {
   "cell_type": "markdown",
   "id": "43346f9d",
   "metadata": {},
   "source": [
    "### 1. Utils for search insar product and GIF generation"
   ]
  },
  {
   "cell_type": "code",
   "execution_count": 2,
   "id": "a98e7d63",
   "metadata": {
    "tags": []
   },
   "outputs": [],
   "source": [
    "def get_images(geoctx, orbit=None, btemp=12, \n",
    "               t0=\"2021-01-01\", t1=\"2022-01-01\",\n",
    "               bands=\"coherence\", group_by=\"day\"):\n",
    "    \"\"\"\n",
    "    Function to search for S1/ S2 images\n",
    "    \"\"\"\n",
    "    \n",
    "    # Make strings out of btemp and orbit\n",
    "    btemp = str(btemp)\n",
    "    if orbit:\n",
    "        orbit = \"{:03d}\".format(orbit)\n",
    "       \n",
    "    # Then create image collection\n",
    "    if bands in [\"coherence\", \"phase\"]:\n",
    "        # This is for InSAR\n",
    "        insar_ic = Product.get(\"esa:sentinel-1:ifg:v1\").images().filter(\n",
    "            t0 <= p.acquired < t1\n",
    "        ).intersects(geoctx.geometry)\n",
    "\n",
    "    elif bands in [\"vv\", \"vh\"]:\n",
    "        # This for backscatter\n",
    "        insar_ic = Product.get(\n",
    "            \"esa:sentinel-1:sigma0v:v1\"\n",
    "        ).images().filter(\n",
    "            t0 <= p.acquired < t1\n",
    "        ).intersects(geoctx.geometry)\n",
    "    elif bands in [\"rgb\"]:\n",
    "        # This is for Sentinel-2 optical\n",
    "        # Change cloud fraction as needed for cleaner GIFs as needed\n",
    "        insar_ic = Product.get(\n",
    "            \"esa:sentinel-2:l2a:v1\"\n",
    "        ).images().filter(\n",
    "            t0 <= p.acquired < t1\n",
    "        ).filter(\n",
    "            p.cloud_fraction < 0.25\n",
    "        ).intersects(\n",
    "            geoctx.geometry\n",
    "        )\n",
    "    \n",
    "    # If relative orbit is not None\n",
    "    # This is for S1 only. Do not provide this for S2\n",
    "    if orbit:\n",
    "        insar_ic = insar_ic.collect()\n",
    "        insar_ic = insar_ic.filter(\n",
    "           lambda x: x.id.split(\":\")[-1].split(\"-\")[4] == orbit\n",
    "        )\n",
    "        \n",
    "    # Temporal baseline\n",
    "    if bands in [\"coherence\", \"phase\"]:\n",
    "        insar_ic = insar_ic.filter(\n",
    "            lambda x: str(x.extra_properties[\"temp_baseline\"]) == btemp\n",
    "        )\n",
    "    \n",
    "    # Finally group by and mosaic\n",
    "    if group_by == \"day\":\n",
    "        group_by_func = lambda x: (x.acquired.year, x.acquired.month, x.acquired.day)\n",
    "    elif group_by == \"month\":\n",
    "        group_by_func = lambda x: (x.acquired.year, x.acquired.month)\n",
    "    \n",
    "    # Group by month for longer timespans and bigger areas for speed\n",
    "    groups = {}\n",
    "    for img in insar_ic:\n",
    "        key = group_by_func(img)\n",
    "        if key not in groups:\n",
    "            groups[key] = []\n",
    "            \n",
    "        groups[key].append(img)\n",
    "\n",
    "    return groups"
   ]
  },
  {
   "cell_type": "code",
   "execution_count": 3,
   "id": "ed1dbec9",
   "metadata": {
    "tags": []
   },
   "outputs": [],
   "source": [
    "class AnimatedGif:\n",
    "    \"\"\"\n",
    "    GIF helper\n",
    "    \"\"\"\n",
    "    def __init__(self, size=(640, 480)):\n",
    "        self.fig = plt.figure()\n",
    "        self.fig.set_size_inches(size[0] / 100, size[1] / 100)\n",
    "        ax = self.fig.add_axes([0, 0, 1, 1], frameon=False, aspect=1)\n",
    "        ax.set_xticks([])\n",
    "        ax.set_yticks([])\n",
    "        self.images = []\n",
    " \n",
    "    def add(self, image, label='', clim=[-0.2, 0.8], cmap=\"jet\", **fontargs):\n",
    "        if image.shape[0] == 1:\n",
    "            plt_im = plt.imshow(image[0], cmap=cmap, vmin=clim[0], vmax=clim[1], animated=True)\n",
    "        else:\n",
    "            plt_im = plt.imshow(np.moveaxis(image, 0, -1)/clim[1],  animated=True)\n",
    "        plt_txt = plt.text(10, 310, label, **fontargs)\n",
    "        self.images.append([plt_im, plt_txt])\n",
    " \n",
    "    def save(self, filename):\n",
    "        animation = anim.ArtistAnimation(self.fig, self.images)\n",
    "        animation.save(filename, writer=PillowWriter(fps=5))"
   ]
  },
  {
   "cell_type": "code",
   "execution_count": 4,
   "id": "9444d9f6",
   "metadata": {
    "tags": []
   },
   "outputs": [],
   "source": [
    "def make_img_coll(imglist):   \n",
    "    coll = ImageCollection()\n",
    "    for img in imglist:\n",
    "        coll.append(img)\n",
    "        \n",
    "    return coll\n",
    "\n",
    "def make_gif(stack, geoctx, outname, layer=\"coherence\"):\n",
    "    if layer==\"coherence\":\n",
    "        clim = [0., 1.]\n",
    "        cmap = \"gray\"\n",
    "        bands = \"coherence\"\n",
    "    elif layer==\"phase\":\n",
    "        clim = [-np.pi, np.pi]\n",
    "        cmap = \"hsv\"\n",
    "        bands = \"phase\"\n",
    "    elif layer in [\"vv\", \"vh\"]:\n",
    "        # In dB\n",
    "        clim = [-20., 1.]\n",
    "        cmap = \"gray\"\n",
    "        bands = layer\n",
    "    elif layer in [\"rgb\"]:\n",
    "        clim = [0.0, 0.3]\n",
    "        cmap = None\n",
    "        bands = [\"red\", \"green\", \"blue\"]\n",
    "    \n",
    "    try:\n",
    "        # If grouping by date\n",
    "        dates = [\"{}-{:02d}-{:02d}\".format(*x) for x in stack]\n",
    "    except:\n",
    "        # If grouping by month\n",
    "        dates = [\"{}-{:02d}\".format(*x) for x in stack]\n",
    "\n",
    "    # We don't know the size yet. So start iterating\n",
    "    count = 0\n",
    "    fontargs = {\"fontsize\": \"large\",\n",
    "                \"color\": \"red\",\n",
    "                \"backgroundcolor\": \"white\"}\n",
    "    \n",
    "    for key, imglist in stack.items():\n",
    "        imcoll = make_img_coll(imglist)\n",
    "        data = imcoll.mosaic(bands, geocontext=geoctx, scaling=\"physical\")\n",
    "        data = data.filled(0.)\n",
    "        print(data.min(), data.max(), data.shape)\n",
    "        if count == 0:\n",
    "            m = data.shape[-2]\n",
    "            n = data.shape[-1]\n",
    "            animated_gif = AnimatedGif(size=(m, n))\n",
    "              \n",
    "        label = dates[count]\n",
    "        animated_gif.add(data,\n",
    "                         label=label,\n",
    "                         clim=clim,\n",
    "                         cmap=cmap, **fontargs)\n",
    "        count += 1\n",
    " \n",
    "    animated_gif.save(outname)"
   ]
  },
  {
   "cell_type": "markdown",
   "id": "1b81f6bb",
   "metadata": {
    "tags": []
   },
   "source": [
    "### 2. Setup AOI using viewport"
   ]
  },
  {
   "cell_type": "code",
   "execution_count": 19,
   "id": "2e608a35",
   "metadata": {
    "tags": []
   },
   "outputs": [],
   "source": [
    "m = dc.map\n",
    "m.map.center = (35.687, -105.9378)\n",
    "m.map.zoom = 14"
   ]
  },
  {
   "cell_type": "code",
   "execution_count": 6,
   "id": "a950490d-c929-4dc3-befd-aeff406dba60",
   "metadata": {
    "tags": []
   },
   "outputs": [
    {
     "data": {
      "application/vnd.jupyter.widget-view+json": {
       "model_id": "c6f50dde2f224b4cb2e96e3e65fb6a45",
       "version_major": 2,
       "version_minor": 0
      },
      "text/plain": [
       "\n",
       "`ipyleaflet` and/or `ipywidgets` Jupyter extensions are not installed! (or you're not in a Jupyter notebook.)\n",
       "To install for JupyterLab, run this in a cell:\n",
       "    !jupyter labextension install jupyter-leaflet @jupyter-widgets/jupyterlab-manager\n",
       "To install for plain Jupyter Notebook, run this in a cell:\n",
       "    !jupyter nbextension enable --py --sys-prefix ipyleaflet\n",
       "Then, restart the kernel and refresh the webpage.\n"
      ]
     },
     "metadata": {},
     "output_type": "display_data"
    }
   ],
   "source": [
    "m"
   ]
  },
  {
   "cell_type": "code",
   "execution_count": 7,
   "id": "383aec7d",
   "metadata": {
    "tags": []
   },
   "outputs": [
    {
     "data": {
      "text/plain": [
       "'POLYGON ((-105.8947277069092 35.67305570647014, -105.8947277069092 35.70094092670511, -105.98090171813966 35.70094092670511, -105.98090171813966 35.67305570647014, -105.8947277069092 35.67305570647014))'"
      ]
     },
     "execution_count": 7,
     "metadata": {},
     "output_type": "execute_result"
    }
   ],
   "source": [
    "# Scroll around and ensure extent is right before running this cell\n",
    "poly = shapely.geometry.box(*(dc.map.geocontext().bounds))\n",
    "zoom = dc.map.zoom\n",
    "poly.wkt"
   ]
  },
  {
   "cell_type": "markdown",
   "id": "89547eff",
   "metadata": {},
   "source": [
    "### 3. Identify unique S1 burst footprints in viewport"
   ]
  },
  {
   "cell_type": "markdown",
   "id": "5c54b90a",
   "metadata": {},
   "source": [
    "If you know the track number, just skip this section and use the track number in the next section"
   ]
  },
  {
   "cell_type": "code",
   "execution_count": 8,
   "id": "64f0a7ee",
   "metadata": {
    "tags": []
   },
   "outputs": [
    {
     "name": "stdout",
     "output_type": "stream",
     "text": [
      "Number of burst footprints:  6\n",
      "S1 Tracks:  {'151', '056', '158'}\n"
     ]
    }
   ],
   "source": [
    "# Search for footprints that intersect with AOI\n",
    "footprints = Product.get(\"esa:sentinel-1:burst_index:v1\").images().intersects(poly)\n",
    "print(\"Number of burst footprints: \", footprints.count())\n",
    "print(\"S1 Tracks: \", set([x.id.split(\":\")[-1].split(\"-\")[0] for x in footprints]))"
   ]
  },
  {
   "cell_type": "markdown",
   "id": "60a8b0c7",
   "metadata": {},
   "source": [
    "### 4. Create GIF"
   ]
  },
  {
   "cell_type": "code",
   "execution_count": 12,
   "id": "28993bde",
   "metadata": {
    "tags": []
   },
   "outputs": [],
   "source": [
    "# This sets up projection and resolution at which data will be pulled in\n",
    "epsg=32601 + int((poly.centroid.xy[0][0] + 180)/6)\n",
    "geoctx = eo.geo.AOI(geometry=poly, crs=f\"EPSG:{epsg}\", resolution=20., align_pixels=True)"
   ]
  },
  {
   "cell_type": "code",
   "execution_count": 13,
   "id": "61d08a7c",
   "metadata": {
    "tags": []
   },
   "outputs": [],
   "source": [
    "# Pull in backscatter data\n",
    "coll = get_images(geoctx, orbit=151, t0=\"2023-04-01\", t1=\"2023-12-01\", bands=\"vv\", group_by=\"month\")"
   ]
  },
  {
   "cell_type": "code",
   "execution_count": 14,
   "id": "450c7e5c",
   "metadata": {
    "tags": []
   },
   "outputs": [
    {
     "name": "stdout",
     "output_type": "stream",
     "text": [
      "-22.594040058622376 10.04640937957987 (1, 160, 392)\n",
      "-21.80752320468979 10.850024425989254 (1, 160, 392)\n",
      "-22.508549096238397 10.679042501221303 (1, 160, 392)\n",
      "-21.756228627259404 11.60234489496824 (1, 160, 392)\n",
      "-23.055691255495848 10.74743527112848 (1, 160, 392)\n",
      "-22.1494870542257 11.858817782120177 (1, 160, 392)\n",
      "-23.466047874938933 16.150464093795804 (1, 160, 392)\n",
      "-23.51734245236932 11.17489008304836 (1, 160, 392)\n"
     ]
    },
    {
     "data": {
      "image/png": "[encoded data removed]",
      "text/plain": [
       "<Figure size 160x392 with 1 Axes>"
      ]
     },
     "metadata": {},
     "output_type": "display_data"
    }
   ],
   "source": [
    "# Make the backscatter GIF\n",
    "make_gif(coll, geoctx, \"SantaFe_VV_T158_2022_2023.gif\", layer=\"vv\")"
   ]
  },
  {
   "cell_type": "code",
   "execution_count": 15,
   "id": "564f8574",
   "metadata": {
    "tags": []
   },
   "outputs": [],
   "source": [
    "# Pull in coherence date\n",
    "coll = get_images(geoctx, orbit=158, btemp=12, t0=\"2022-01-01\", t1=\"2023-02-01\", bands=\"coherence\")"
   ]
  },
  {
   "cell_type": "code",
   "execution_count": 16,
   "id": "d3cb4281",
   "metadata": {
    "tags": []
   },
   "outputs": [
    {
     "name": "stdout",
     "output_type": "stream",
     "text": [
      "0.0 1.0 (1, 160, 392)\n",
      "0.0 1.0 (1, 160, 392)\n",
      "0.0 1.0 (1, 160, 392)\n",
      "0.0 1.0 (1, 160, 392)\n",
      "0.0 1.0 (1, 160, 392)\n"
     ]
    },
    {
     "data": {
      "image/png": "[encoded data removed]",
      "text/plain": [
       "<Figure size 160x392 with 1 Axes>"
      ]
     },
     "metadata": {},
     "output_type": "display_data"
    }
   ],
   "source": [
    "# Make coherence gif\n",
    "make_gif(coll, geoctx, \"SantaFe_coh_T158_2022_2023.gif\", layer=\"coherence\")"
   ]
  },
  {
   "cell_type": "code",
   "execution_count": 17,
   "id": "75d11a46",
   "metadata": {
    "tags": []
   },
   "outputs": [],
   "source": [
    "# Pull S2 data\n",
    "coll = get_images(geoctx, t0=\"2022-01-01\", t1=\"2023-02-01\", bands=\"rgb\", group_by=\"month\")"
   ]
  },
  {
   "cell_type": "code",
   "execution_count": 18,
   "id": "bddbcdd0",
   "metadata": {
    "tags": []
   },
   "outputs": [
    {
     "name": "stderr",
     "output_type": "stream",
     "text": [
      "Clipping input data to the valid range for imshow with RGB data ([0..1] for floats or [0..255] for integers). Got range [-0.01899999999999999..3.0660000000000003].\n"
     ]
    },
    {
     "name": "stdout",
     "output_type": "stream",
     "text": [
      "-0.005699999999999997 0.9198000000000001 (3, 160, 392)\n"
     ]
    },
    {
     "name": "stderr",
     "output_type": "stream",
     "text": [
      "Clipping input data to the valid range for imshow with RGB data ([0..1] for floats or [0..255] for integers). Got range [0.0..5.010000000000001].\n"
     ]
    },
    {
     "name": "stdout",
     "output_type": "stream",
     "text": [
      "0.0 1.5030000000000001 (3, 160, 392)\n"
     ]
    },
    {
     "name": "stderr",
     "output_type": "stream",
     "text": [
      "Clipping input data to the valid range for imshow with RGB data ([0..1] for floats or [0..255] for integers). Got range [0.0..2.6093333333333337].\n"
     ]
    },
    {
     "name": "stdout",
     "output_type": "stream",
     "text": [
      "0.0 0.7828 (3, 160, 392)\n"
     ]
    },
    {
     "name": "stderr",
     "output_type": "stream",
     "text": [
      "Clipping input data to the valid range for imshow with RGB data ([0..1] for floats or [0..255] for integers). Got range [0.0..2.6220000000000003].\n"
     ]
    },
    {
     "name": "stdout",
     "output_type": "stream",
     "text": [
      "0.0 0.7866000000000001 (3, 160, 392)\n"
     ]
    },
    {
     "name": "stderr",
     "output_type": "stream",
     "text": [
      "Clipping input data to the valid range for imshow with RGB data ([0..1] for floats or [0..255] for integers). Got range [0.0..3.978666666666667].\n"
     ]
    },
    {
     "name": "stdout",
     "output_type": "stream",
     "text": [
      "0.0 1.1936 (3, 160, 392)\n"
     ]
    },
    {
     "name": "stderr",
     "output_type": "stream",
     "text": [
      "Clipping input data to the valid range for imshow with RGB data ([0..1] for floats or [0..255] for integers). Got range [0.0..5.521333333333334].\n"
     ]
    },
    {
     "name": "stdout",
     "output_type": "stream",
     "text": [
      "0.0 1.6564 (3, 160, 392)\n"
     ]
    },
    {
     "name": "stderr",
     "output_type": "stream",
     "text": [
      "Clipping input data to the valid range for imshow with RGB data ([0..1] for floats or [0..255] for integers). Got range [0.0..3.377333333333334].\n"
     ]
    },
    {
     "name": "stdout",
     "output_type": "stream",
     "text": [
      "0.0 1.0132 (3, 160, 392)\n"
     ]
    },
    {
     "name": "stderr",
     "output_type": "stream",
     "text": [
      "Clipping input data to the valid range for imshow with RGB data ([0..1] for floats or [0..255] for integers). Got range [0.0..5.700000000000001].\n"
     ]
    },
    {
     "name": "stdout",
     "output_type": "stream",
     "text": [
      "0.0 1.7100000000000002 (3, 160, 392)\n"
     ]
    },
    {
     "name": "stderr",
     "output_type": "stream",
     "text": [
      "Clipping input data to the valid range for imshow with RGB data ([0..1] for floats or [0..255] for integers). Got range [0.0..4.344].\n"
     ]
    },
    {
     "name": "stdout",
     "output_type": "stream",
     "text": [
      "0.0 1.3032000000000001 (3, 160, 392)\n"
     ]
    },
    {
     "name": "stderr",
     "output_type": "stream",
     "text": [
      "Clipping input data to the valid range for imshow with RGB data ([0..1] for floats or [0..255] for integers). Got range [0.0..2.916666666666667].\n"
     ]
    },
    {
     "name": "stdout",
     "output_type": "stream",
     "text": [
      "0.0 0.875 (3, 160, 392)\n"
     ]
    },
    {
     "name": "stderr",
     "output_type": "stream",
     "text": [
      "Clipping input data to the valid range for imshow with RGB data ([0..1] for floats or [0..255] for integers). Got range [0.0..2.8140000000000005].\n"
     ]
    },
    {
     "name": "stdout",
     "output_type": "stream",
     "text": [
      "0.0 0.8442000000000001 (3, 160, 392)\n"
     ]
    },
    {
     "name": "stderr",
     "output_type": "stream",
     "text": [
      "Clipping input data to the valid range for imshow with RGB data ([0..1] for floats or [0..255] for integers). Got range [0.0..2.7960000000000003].\n"
     ]
    },
    {
     "name": "stdout",
     "output_type": "stream",
     "text": [
      "0.0 0.8388 (3, 160, 392)\n"
     ]
    },
    {
     "name": "stderr",
     "output_type": "stream",
     "text": [
      "Clipping input data to the valid range for imshow with RGB data ([0..1] for floats or [0..255] for integers). Got range [0.0..2.8993333333333333].\n"
     ]
    },
    {
     "name": "stdout",
     "output_type": "stream",
     "text": [
      "0.0 0.8698 (3, 160, 392)\n"
     ]
    },
    {
     "data": {
      "image/png": "[encoded data removed]",
      "text/plain": [
       "<Figure size 160x392 with 1 Axes>"
      ]
     },
     "metadata": {},
     "output_type": "display_data"
    }
   ],
   "source": [
    "# Make S2 gif\n",
    "make_gif(coll, geoctx, \"SantaFe_S2_2022_2023.gif\", layer=\"rgb\")"
   ]
  },
  {
   "cell_type": "code",
   "execution_count": null,
   "id": "02b86933",
   "metadata": {},
   "outputs": [],
   "source": []
  }
 ],
 "metadata": {
  "kernelspec": {
   "display_name": "Python 3 (ipykernel)",
   "language": "python",
   "name": "python3"
  },
  "language_info": {
   "codemirror_mode": {
    "name": "ipython",
    "version": 3
   },
   "file_extension": ".py",
   "mimetype": "text/x-python",
   "name": "python",
   "nbconvert_exporter": "python",
   "pygments_lexer": "ipython3",
   "version": "3.12.9"
  }
 },
 "nbformat": 4,
 "nbformat_minor": 5
}
